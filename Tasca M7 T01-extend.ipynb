{
 "cells": [
  {
   "cell_type": "code",
   "execution_count": 2,
   "id": "1811c4b4",
   "metadata": {},
   "outputs": [],
   "source": [
    "# Cargamos las librerias que necesitamos para empezar\n",
    "import pandas as pd\n",
    "from sklearn.tree import DecisionTreeClassifier # Import Decision Tree Classifier\n",
    "from sklearn.model_selection import train_test_split # Import train_test_split function\n",
    "from sklearn import metrics #Import scikit-learn metrics module for accuracy calculation\n",
    "\n",
    "\n"
   ]
  },
  {
   "cell_type": "code",
   "execution_count": 3,
   "id": "400514b6",
   "metadata": {},
   "outputs": [
    {
     "name": "stdout",
     "output_type": "stream",
     "text": [
      "   Mostra  Alcohol  Malic acid   Ash  Alcalinity of ash  Magnesium  \\\n",
      "0       1    13.20        1.78  2.14               11.2        100   \n",
      "1       1    13.16        2.36  2.67               18.6        101   \n",
      "2       1    14.37        1.95  2.50               16.8        113   \n",
      "3       1    13.24        2.59  2.87               21.0        118   \n",
      "4       1    14.20        1.76  2.45               15.2        112   \n",
      "\n",
      "   Total phenols  Flavanoids  Nonflavanoid phenols  Proanthocyanins  \\\n",
      "0           2.65        2.76                  0.26             1.28   \n",
      "1           2.80        3.24                  0.30             2.81   \n",
      "2           3.85        3.49                  0.24             2.18   \n",
      "3           2.80        2.69                  0.39             1.82   \n",
      "4           3.27        3.39                  0.34             1.97   \n",
      "\n",
      "   Color intensity   Hue  OD280/OD315 of diluted wines  Proline  \n",
      "0             4.38  1.05                          3.40     1050  \n",
      "1             5.68  1.03                          3.17     1185  \n",
      "2             7.80  0.86                          3.45     1480  \n",
      "3             4.32  1.04                          2.93      735  \n",
      "4             6.75  1.05                          2.85     1450  \n"
     ]
    }
   ],
   "source": [
    "\n",
    "dades= pd.read_csv('wineData.txt')\n",
    "\n",
    "\n",
    "dades.columns=[ 'Mostra','Alcohol','Malic acid','Ash','Alcalinity of ash','Magnesium','Total phenols', 'Flavanoids','Nonflavanoid phenols','Proanthocyanins','Color intensity','Hue', 'OD280/OD315 of diluted wines','Proline'] \n",
    "print(dades.head())\n"
   ]
  },
  {
   "cell_type": "code",
   "execution_count": 35,
   "id": "b49a2611",
   "metadata": {},
   "outputs": [],
   "source": [
    "#########################\n",
    "# SELECCIÓN DE VARIABLES\n",
    "#########################\n",
    "#split dataset in features and target variable: you need to divide given columns into two types of variables dependent(or target variable) and independent variable(or feature variables).\n",
    "\n",
    "Var_independents = ['Alcohol', 'Malic acid', 'Ash', 'Alcalinity of ash','Magnesium','Total phenols','Flavanoids']\n",
    "X = dades[Var_independents] # Features (característiques)\n",
    "y = dades.Mostra # Target variable\n",
    "\n"
   ]
  },
  {
   "cell_type": "code",
   "execution_count": 36,
   "id": "6569ee59",
   "metadata": {},
   "outputs": [],
   "source": [
    "################\n",
    "# TRAIN TEST\n",
    "################\n",
    "\n",
    "# Split dataset into training set and test set: To understand model performance, dividing the dataset into a training set and a test set is a good strategy.\n",
    "# Let's split the dataset by using function train_test_split(). You need to pass 3 parameters features, target, and test_set size.\n",
    "\n",
    "X_train, X_test, y_train, y_test = train_test_split(X, y, test_size=0.3, random_state=1) # 70% training and 30% test\n",
    "\n"
   ]
  },
  {
   "cell_type": "code",
   "execution_count": 37,
   "id": "36f95e27",
   "metadata": {},
   "outputs": [],
   "source": [
    "########################################\n",
    "# CREAR EL MODELO DE ARBOL DE DECISIÓN\n",
    "########################################\n",
    "\n",
    "# Create Decision Tree classifer object\n",
    "clf = DecisionTreeClassifier()\n",
    "\n",
    "# Train Decision Tree Classifer\n",
    "clf = clf.fit(X_train,y_train)\n",
    "\n",
    "#Predict the response for test dataset\n",
    "y_pred = clf.predict(X_test)\n"
   ]
  },
  {
   "cell_type": "code",
   "execution_count": 49,
   "id": "d1f41399",
   "metadata": {},
   "outputs": [
    {
     "name": "stdout",
     "output_type": "stream",
     "text": [
      "Accuracy: 0.8888888888888888\n"
     ]
    }
   ],
   "source": [
    "####################\n",
    "# EVALUAR EL MODELO\n",
    "####################\n",
    "\n",
    "# Model Accuracy, how often is the classifier correct?\n",
    "print(\"Accuracy:\",metrics.accuracy_score(y_test, y_pred))"
   ]
  },
  {
   "cell_type": "code",
   "execution_count": 50,
   "id": "61a7405d",
   "metadata": {},
   "outputs": [
    {
     "name": "stdout",
     "output_type": "stream",
     "text": [
      "Accuracy: 0.8703703703703703\n"
     ]
    }
   ],
   "source": [
    "################################################\n",
    "# CREAR MODELO AJUSTANDO PARÁMETROS Y EVALUARLO\n",
    "################################################\n",
    "\n",
    "# Create Decision Tree classifer object\n",
    "clf = DecisionTreeClassifier(criterion=\"entropy\", max_depth=3)\n",
    "\n",
    "# Train Decision Tree Classifer\n",
    "clf = clf.fit(X_train,y_train)\n",
    "\n",
    "#Predict the response for test dataset\n",
    "y_pred = clf.predict(X_test)\n",
    "\n",
    "# Model Accuracy, how often is the classifier correct?\n",
    "print(\"Accuracy:\",metrics.accuracy_score(y_test, y_pred))"
   ]
  },
  {
   "cell_type": "code",
   "execution_count": 42,
   "id": "2aa9ddcf",
   "metadata": {},
   "outputs": [
    {
     "name": "stdout",
     "output_type": "stream",
     "text": [
      "0.7592592592592593\n"
     ]
    }
   ],
   "source": [
    "################################################\n",
    "# CREAR MODELO KNN \n",
    "################################################\n",
    "\n",
    "from sklearn.neighbors import KNeighborsClassifier\n",
    "\n",
    "classifier = KNeighborsClassifier()\n",
    "classifier.fit(X_train, y_train)\n",
    "\n",
    "\n",
    "\n",
    "# The final step is to make predictions on our test data. To do so, execute the following script:\n",
    "\n",
    "y_pred = classifier.predict(X_test)\n",
    "\n",
    "acc =  classifier.score(X_test, y_test)\n",
    "print(acc)"
   ]
  },
  {
   "cell_type": "code",
   "execution_count": 44,
   "id": "d84de58b",
   "metadata": {},
   "outputs": [
    {
     "name": "stdout",
     "output_type": "stream",
     "text": [
      "0.9074074074074074\n"
     ]
    }
   ],
   "source": [
    "###################################################\n",
    "# REPETIMOS EL PROCESO PERO NORMALIZANDO LOS DATOS - Modelo KNN\n",
    "###################################################\n",
    "\n",
    "# - - > Normalizamos:\n",
    "from sklearn.preprocessing import StandardScaler\n",
    "\n",
    "scaler = StandardScaler()\n",
    "scaler.fit(X_train)\n",
    "\n",
    "X_train = scaler.transform(X_train)\n",
    "X_test = scaler.transform(X_test)\n",
    "\n",
    "# - - > Creamos modelo de classificación (KNN):\n",
    "from sklearn.neighbors import KNeighborsClassifier\n",
    "\n",
    "classifier = KNeighborsClassifier()\n",
    "classifier.fit(X_train, y_train)\n",
    "\n",
    "# - - > Predecimos:\n",
    "y_pred = classifier.predict(X_test)\n",
    "\n",
    "# - - > Evaluamos:\n",
    "acc =  classifier.score(X_test, y_test)\n",
    "\n",
    "print(acc)"
   ]
  },
  {
   "cell_type": "code",
   "execution_count": 51,
   "id": "a7b5852d",
   "metadata": {},
   "outputs": [
    {
     "name": "stdout",
     "output_type": "stream",
     "text": [
      "0.8888888888888888\n"
     ]
    }
   ],
   "source": [
    "###############################################\n",
    "# DE NUEVO CLASIFICAMOS CON DATOS NORMALIZADOS - Modelo Árbol de decisión\n",
    "###############################################\n",
    "\n",
    "# - - > Normalizamos:\n",
    "from sklearn.preprocessing import StandardScaler\n",
    "\n",
    "scaler = StandardScaler()\n",
    "scaler.fit(X_train)\n",
    "\n",
    "X_train = scaler.transform(X_train)\n",
    "X_test = scaler.transform(X_test)\n",
    "\n",
    "# - - > Creamos modelo de classificación (Arbol de decisión):\n",
    "\n",
    "clf = DecisionTreeClassifier()\n",
    "\n",
    "# - - > Entrenamos el modelo\n",
    "clf = clf.fit(X_train,y_train)\n",
    "\n",
    "# - - >  Predecimos la respuesta para los datos de testeo\n",
    "y_pred = clf.predict(X_test)\n",
    "\n",
    "\n",
    "# - - > Evaluamos:\n",
    "acc = metrics.accuracy_score(y_test, y_pred)\n",
    "print(acc)\n",
    "\n",
    "#¿? Me da la misma acc?? Por que? - - - > < - - || NO LO ENTIENDO ||\n"
   ]
  },
  {
   "cell_type": "code",
   "execution_count": 31,
   "id": "824132ee",
   "metadata": {},
   "outputs": [
    {
     "name": "stdout",
     "output_type": "stream",
     "text": [
      "              precision    recall  f1-score   support\n",
      "\n",
      "           1       1.00      0.95      0.98        22\n",
      "           2       0.91      0.83      0.87        24\n",
      "           3       0.64      0.88      0.74         8\n",
      "\n",
      "    accuracy                           0.89        54\n",
      "   macro avg       0.85      0.89      0.86        54\n",
      "weighted avg       0.91      0.89      0.89        54\n",
      "\n"
     ]
    },
    {
     "data": {
      "image/png": "[encoded data removed]",
      "text/plain": [
       "<Figure size 432x288 with 2 Axes>"
      ]
     },
     "metadata": {
      "needs_background": "light"
     },
     "output_type": "display_data"
    }
   ],
   "source": [
    "###############################################\n",
    "# EVALUAMOS DE NUEVO LOS MODELOS \n",
    "###############################################\n",
    "\n",
    "# Explicación: el parámetro acc (precisión == acuracy) nos proporciona información muy general de nuestro modelo, cuando nuestra precisión es del 0,9, lo que significa que el 90 % de las predicciones serán correctas, es que el 10 % de error se reparte igualitariamente? O todo el error se concentra en una sola clase? Para resolverlo podemos utilizar los siguientes métodos: \n",
    "\n",
    "# - - - >  classification_report, \n",
    "# - - - >  confusion_matrix\n",
    "\n",
    "\n",
    "from sklearn.metrics import classification_report\n",
    "from sklearn.metrics import confusion_matrix\n",
    "\n",
    "#importing Seaborn's to use the heatmap \n",
    "import seaborn as sns\n",
    "\n",
    "# Adding classes names for better interpretation\n",
    "classes_names = ['Mostra 1','Mostra 2','Mostra 3']\n",
    "cm = pd.DataFrame(confusion_matrix(y_test, y_pred), \n",
    "                  columns=classes_names, index = classes_names)\n",
    "                  \n",
    "# Seaborn's heatmap to better visualize the confusion matrix\n",
    "sns.heatmap(cm, annot=True, fmt='d');\n",
    "\n",
    "print(classification_report(y_test, y_pred))"
   ]
  },
  {
   "cell_type": "code",
   "execution_count": null,
   "id": "f9f46889",
   "metadata": {},
   "outputs": [],
   "source": [
    "#####################################\n",
    "# ENTENDIENDO LA MATRIZ DE CONFUSIÓN \n",
    "#####################################\n",
    "\n",
    "# En 4 ocasiones una muestra 2 se ha clasificado erroneamente como muestra 3\n",
    "\n",
    "\n",
    "# PROS Y CONTRAS DEL MÉTODO KNN\n",
    "\n",
    "# In this section, we'll present some of the pros and cons of using the KNN algorithm.\n",
    "# Pros\n",
    "\n",
    "#     It is easy to implement\n",
    "#     It is a lazy learning algorithm and therefore doesn't require training on all data points (only using the K-Nearest neighbors to predict). This makes the KNN algorithm much faster than other algorithms that require training with the whole dataset such as Support Vector Machines, linear regression, etc.\n",
    "#     Since KNN requires no training before making predictions, new data can be added seamlessly\n",
    "#     There are only two parameters required to work with KNN, i.e. the value of K and the distance function\n",
    "\n",
    "# Cons\n",
    "\n",
    "#     The KNN algorithm doesn't work well with high dimensional data because with a large number of dimensions, the distance between points gets \"weird\", and the distance metrics we use don't hold up\n",
    "#     Finally, the KNN algorithm doesn't work well with categorical features since it is difficult to find the distance between dimensions with categorical features\n"
   ]
  },
  {
   "cell_type": "code",
   "execution_count": 59,
   "id": "80d0e04f",
   "metadata": {},
   "outputs": [
    {
     "name": "stdout",
     "output_type": "stream",
     "text": [
      "Accuracy del modelo SVM: 0.8888888888888888\n"
     ]
    }
   ],
   "source": [
    "#####################################################\n",
    "# PRUEVO OTRO DE LOS MODELOS EXPLICADO EN LA UNIDAD\n",
    "#####################################################\n",
    "\n",
    "# 1) # Support Vector Machines # \n",
    "\n",
    "\n",
    "#Import svm model\n",
    "from sklearn import svm\n",
    "\n",
    "#Create a svm Classifier\n",
    "clf = svm.SVC(kernel='linear') # Linear Kernel\n",
    "\n",
    "#Train the model using the training sets\n",
    "clf.fit(X_train, y_train)\n",
    "\n",
    "#Import scikit-learn metrics module for accuracy calculation\n",
    "from sklearn import metrics\n",
    "\n",
    "# Model Accuracy: how often is the classifier correct?\n",
    "print(\"Accuracy del modelo SVM:\",metrics.accuracy_score(y_test, y_pred))\n",
    "\n",
    "# PROS Y CONTRAS DEL MÉTODO SVM\n",
    "# Advantages: SVM Classifiers offer good accuracy and perform faster prediction compared to Naïve Bayes algorithm. They also use less memory because they use a subset of training points in the decision phase. SVM works well with a clear margin of separation and with high dimensional space.\n",
    "# Disadvantages: SVM is not suitable for large datasets because of its high training time and it also takes more time in training compared to Naïve Bayes. It works poorly with overlapping classes and is also sensitive to the type of kernel used.\n",
    "\n",
    "###############################################################################################\n",
    "\n",
    "\n",
    "\n"
   ]
  },
  {
   "cell_type": "code",
   "execution_count": 61,
   "id": "83417730",
   "metadata": {},
   "outputs": [
    {
     "name": "stdout",
     "output_type": "stream",
     "text": [
      "Metrica del modelo 0.991869918699187\n",
      "Metricas cross_validation [0.92       0.96       0.92       0.875      0.91666667]\n",
      "Media de cross_validation 0.9183333333333333\n",
      "Metrica en Test 0.9629629629629629\n"
     ]
    }
   ],
   "source": [
    "############################################\n",
    "# FEM EL CROSS VALIDATION\n",
    "############################################\n",
    "\n",
    "from sklearn.model_selection import train_test_split\n",
    "from sklearn.model_selection import cross_val_score\n",
    "from sklearn.model_selection import KFold\n",
    "\n",
    " \n",
    " \n",
    "kf = KFold(n_splits=5)\n",
    " \n",
    "clf.fit(X_train, y_train)\n",
    " \n",
    "score = clf.score(X_train,y_train)\n",
    " \n",
    "print(\"Metrica del modelo\", score)\n",
    " \n",
    "scores = cross_val_score(clf, X_train, y_train, cv=kf, scoring=\"accuracy\")\n",
    " \n",
    "print(\"Metricas cross_validation\", scores)\n",
    " \n",
    "print(\"Media de cross_validation\", scores.mean())\n",
    " \n",
    "preds = clf.predict(X_test)\n",
    " \n",
    "score_pred = metrics.accuracy_score(y_test, preds)\n",
    " \n",
    "print(\"Metrica en Test\", score_pred)\n",
    "\n"
   ]
  }
 ],
 "metadata": {
  "kernelspec": {
   "display_name": "Python 3 (ipykernel)",
   "language": "python",
   "name": "python3"
  },
  "language_info": {
   "codemirror_mode": {
    "name": "ipython",
    "version": 3
   },
   "file_extension": ".py",
   "mimetype": "text/x-python",
   "name": "python",
   "nbconvert_exporter": "python",
   "pygments_lexer": "ipython3",
   "version": "3.9.12"
  }
 },
 "nbformat": 4,
 "nbformat_minor": 5
}
